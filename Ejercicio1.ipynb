{
 "cells": [
  {
   "cell_type": "code",
   "execution_count": null,
   "metadata": {},
   "outputs": [],
   "source": [
    "from sklearn.datasets import fetch_openml\n",
    "import pandas as pd\n",
    "\n",
    "# Descargar el dataset Iris desde OpenML\n",
    "iris = fetch_openml(name='iris', version=1, as_frame=True)\n",
    "\n",
    "# Convertir el dataset a un DataFrame de pandas\n",
    "df = iris.frame"
   ]
  },
  {
   "cell_type": "code",
   "execution_count": null,
   "metadata": {},
   "outputs": [
    {
     "name": "stdout",
     "output_type": "stream",
     "text": [
      "Primeros registros del dataset:\n",
      "   sepallength  sepalwidth  petallength  petalwidth        class\n",
      "0          5.1         3.5          1.4         0.2  Iris-setosa\n",
      "1          4.9         3.0          1.4         0.2  Iris-setosa\n",
      "2          4.7         3.2          1.3         0.2  Iris-setosa\n",
      "3          4.6         3.1          1.5         0.2  Iris-setosa\n",
      "4          5.0         3.6          1.4         0.2  Iris-setosa\n",
      "\n",
      "Tipos de variables en el dataset:\n",
      "sepallength     float64\n",
      "sepalwidth      float64\n",
      "petallength     float64\n",
      "petalwidth      float64\n",
      "class          category\n",
      "dtype: object\n"
     ]
    }
   ],
   "source": [
    "# Mostrar los primeros registros del DataFrame\n",
    "print(\"Primeros registros del dataset:\")\n",
    "print(df.head())\n",
    "\n",
    "# Identificar el tipo de cada variable\n",
    "print(\"\\nTipos de variables en el dataset:\")\n",
    "print(df.dtypes)"
   ]
  },
  {
   "cell_type": "code",
   "execution_count": null,
   "metadata": {},
   "outputs": [
    {
     "name": "stdout",
     "output_type": "stream",
     "text": [
      "\n",
      "Clasificación de variables:\n",
      "sepallength: Cuantitativa\n",
      "sepalwidth: Cuantitativa\n",
      "petallength: Cuantitativa\n",
      "petalwidth: Cuantitativa\n",
      "class: Cualitativa\n"
     ]
    }
   ],
   "source": [
    "# Identificar si las variables son cuantitativas o cualitativas\n",
    "print(\"\\nClasificación de variables:\")\n",
    "for column in df.columns:\n",
    "    if pd.api.types.is_numeric_dtype(df[column]):\n",
    "        print(f\"{column}: Cuantitativa\")\n",
    "    else:\n",
    "        print(f\"{column}: Cualitativa\")"
   ]
  }
 ],
 "metadata": {
  "language_info": {
   "name": "python"
  }
 },
 "nbformat": 4,
 "nbformat_minor": 2
}
